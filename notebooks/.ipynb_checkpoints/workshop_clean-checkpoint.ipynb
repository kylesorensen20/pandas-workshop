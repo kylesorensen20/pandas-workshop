{
 "cells": [
  {
   "cell_type": "markdown",
   "id": "959d2e6d-a248-4439-a2e8-2138eb72325c",
   "metadata": {
    "tags": []
   },
   "source": [
    "# Pandas (E) Data Analysis Workshop\n",
    "(ft. Kyle Sorensen)\n",
    "\n",
    "Now more than ever, data has a unique ability to describe our physical, social and technological world. Thanks to relatively recent (and accelerating) advances in computing, those with proper motivation can use data to affect change in any realm they so choose, from ones more directly related to computer science such as machine learning to others with not so obvious connections such as biology and economics!\n",
    "\n",
    "You have likely heard a lot of talk recently about *data science*, but what exactly is data science? A quick search gives this definition: \"an inter-disciplinary field that uses scientific methods, processes, algorithms and systems to extract knowledge and insights from structured and unstructured data, and apply knowledge from data across a broad range of application domains\". Now, this is a mouthful, but essentially, data science pulls from the best of computer science, statistics, mathematics and business to <b>make data understandable and actionable</b>. This is the key, because what worth does data have if we can not interpret it and make decisions based on it?\n",
    "\n",
    "## `pandas` and Data Science in Python:\n",
    "The industry standard for this type of work is a library called `pandas`, along with a dependency that will come in handy called `numpy` and a couple lovely data viz tool called `matplotlib` and `seaborn`. There are other libraries that work well for data science in Python that we may explore later, but these are all you will need for now! :) We will load other libraries for modeling and interpolation later.\n",
    "\n",
    "Below, you will see the usual convention for importing `pandas`, `numpy`, `matplotlib` and `seaborn`:"
   ]
  },
  {
   "cell_type": "code",
   "execution_count": 1,
   "id": "1c8a0af2-74cc-45dd-8c55-ab6a1886ac29",
   "metadata": {},
   "outputs": [],
   "source": [
    "import pandas as pd\n",
    "import numpy as np\n",
    "import matplotlib.pyplot as plt\n",
    "import seaborn as sns"
   ]
  },
  {
   "cell_type": "markdown",
   "id": "0ebf6302-5838-401e-827a-bb263dcc9cd2",
   "metadata": {},
   "source": [
    "## `pandas` Basics\n",
    "Before we get our hands on some real data, let's go over (some of) the basics of `pandas` including...\n",
    "\n",
    "* The data structures of `pandas`\n",
    "* Viewing data and metadata\n",
    "* Importing and exporting data\n",
    "* Indexing and selecting data\n",
    "* Merge, join, and concatenate\n",
    "* Group by and summarization\n",
    "* Reshaping data\n",
    "\n",
    "Fortunately for us, the `pandas` documentation is exceptional. Most tasks that you would reasonably want to achieve are documented somewhere in the `pandas` [user guide](https://pandas.pydata.org/docs/user_guide/index.html)."
   ]
  },
  {
   "cell_type": "markdown",
   "id": "acc04201-9174-4bd2-bffb-ee9f51080d9b",
   "metadata": {},
   "source": [
    "###  The Data Structures of `pandas`"
   ]
  },
  {
   "cell_type": "code",
   "execution_count": 2,
   "id": "aff063c3-9e2f-4e75-a5b3-fcf2c4fa796f",
   "metadata": {},
   "outputs": [],
   "source": [
    "# Code"
   ]
  },
  {
   "cell_type": "markdown",
   "id": "c111f4fc-a1c0-43fd-bb09-253cbcfd0dec",
   "metadata": {},
   "source": [
    "### Viewing Data and Metadata"
   ]
  },
  {
   "cell_type": "code",
   "execution_count": 3,
   "id": "4393acad-f26b-4fbc-ae86-3bda1c4a98ee",
   "metadata": {},
   "outputs": [],
   "source": [
    "# Code"
   ]
  },
  {
   "cell_type": "markdown",
   "id": "97ed8bc4-c62f-43c5-99ee-5bc2df51d31b",
   "metadata": {},
   "source": [
    "### Importing and Exporting"
   ]
  },
  {
   "cell_type": "code",
   "execution_count": 4,
   "id": "74e7b833-b0f8-4a44-b8f2-201e6f50bf24",
   "metadata": {},
   "outputs": [],
   "source": [
    "# Code"
   ]
  },
  {
   "cell_type": "markdown",
   "id": "7b3743fe-60dc-4432-b2af-6124fd1270d7",
   "metadata": {},
   "source": [
    "### Indexing, Selecting and Filtering by Row and Column"
   ]
  },
  {
   "cell_type": "code",
   "execution_count": 5,
   "id": "dbc19dff-23c3-4917-822e-e12c409099d8",
   "metadata": {},
   "outputs": [],
   "source": [
    "# Code"
   ]
  },
  {
   "cell_type": "markdown",
   "id": "4df77d56-751b-4c42-a340-9086a7799cc3",
   "metadata": {},
   "source": [
    "### Merge, join, and concatenate"
   ]
  },
  {
   "cell_type": "code",
   "execution_count": 6,
   "id": "316ce52f-869f-4e76-8f53-3554db1f2758",
   "metadata": {},
   "outputs": [],
   "source": [
    "# Code"
   ]
  },
  {
   "cell_type": "markdown",
   "id": "05367986-9e8b-4516-b4e6-5cce4d483399",
   "metadata": {},
   "source": [
    "### Groupby and Data Summarization"
   ]
  },
  {
   "cell_type": "code",
   "execution_count": 7,
   "id": "ff37c44f-ec81-4d30-a1fe-3569a8d0e0b8",
   "metadata": {},
   "outputs": [],
   "source": [
    "# Code"
   ]
  },
  {
   "cell_type": "markdown",
   "id": "fd4c544a-732c-4a94-9ef9-c84b87d725b5",
   "metadata": {},
   "source": [
    "### Pivot Tables and Data Reshaping"
   ]
  },
  {
   "cell_type": "code",
   "execution_count": 8,
   "id": "b76adada-c975-4b1b-b650-fc720e73b669",
   "metadata": {},
   "outputs": [],
   "source": [
    "# Code"
   ]
  },
  {
   "cell_type": "markdown",
   "id": "2d03ee97-1147-46f5-a311-3ea7c8522f9e",
   "metadata": {},
   "source": [
    "Now that we have covered (some of) the basics of `pandas`, we are ready to start working with a real data set. Let's begin!"
   ]
  },
  {
   "cell_type": "markdown",
   "id": "15c6de7b-9a2f-4030-8ead-7805edcda7b4",
   "metadata": {},
   "source": [
    "## Our Dataset (source: [rashida048](https://github.com/rashida048/Datasets/blob/master/home_data.csv))\n",
    "The dataset we will be using for this workshop contains pricing data on 21,613 homes with variables such as `yr_renovated` which is the year of most recent renovation if available and 0 otherwise, and `waterfront` which is an indicator variable for whether the property is located close to a body of water. The reason for using `pandas` here over something more user-friendly like MS Excel is that our data is 3.5+ MB, making it quite cumbersome to work with in a spreadsheet.\n",
    "\n",
    "To get started, we will load our data and use the `head(n)` and `info()` methods to display the first 10 rows of data along with a summary of the columns, including data types."
   ]
  },
  {
   "cell_type": "code",
   "execution_count": 9,
   "id": "c68a25c6-ee6f-4cb4-9cc7-b72decf7e040",
   "metadata": {},
   "outputs": [],
   "source": [
    "# Code"
   ]
  },
  {
   "cell_type": "code",
   "execution_count": 10,
   "id": "190213e5-f215-47fc-8061-d35391ad66ad",
   "metadata": {},
   "outputs": [],
   "source": [
    "# Code"
   ]
  },
  {
   "cell_type": "markdown",
   "id": "720e4d80-9a9a-4777-9e62-0f5b7b7c22bb",
   "metadata": {},
   "source": [
    "Notably, there are a few problems with the data that would affect our future analysis as written. Let's get those fixed before we proceed with the tasks!"
   ]
  },
  {
   "cell_type": "code",
   "execution_count": 11,
   "id": "93a9a56f-56b4-4c78-944e-0b8c4b950c2c",
   "metadata": {},
   "outputs": [],
   "source": [
    "# Code"
   ]
  },
  {
   "cell_type": "markdown",
   "id": "f229e4f6-23af-4f46-8fb0-f3143f8186bc",
   "metadata": {},
   "source": [
    "## \"Advanced\" Tasks for This Workshop\n",
    "Using the skills we learned above along with some additional functionality from other libraries, we will complete the following tasks...\n",
    "* Generate a pivot table displaying average home price w.r.t. the number of bathrooms and number of bedrooms and create a 3D visualization of the summarized data\n",
    "* Construct a time series model for housing prices with a 6 month forecast\n",
    "* Construct a heatmap of housing prices using latitude and longitude coordinates"
   ]
  },
  {
   "cell_type": "markdown",
   "id": "b4fe79cc-315b-4185-9d17-78822a0beed8",
   "metadata": {},
   "source": [
    "### Task 1: Pivot Table and 3D Plot of Average Home Prices"
   ]
  },
  {
   "cell_type": "code",
   "execution_count": 12,
   "id": "6610cd65-a7e6-4683-b82f-151f8b51cbe8",
   "metadata": {},
   "outputs": [],
   "source": [
    "# Code"
   ]
  },
  {
   "cell_type": "markdown",
   "id": "ab2d9058-a4d2-4746-b372-8b4157af0591",
   "metadata": {},
   "source": [
    "### Task 2: Holt-Winters' Forecast for Average Home Prices"
   ]
  },
  {
   "cell_type": "code",
   "execution_count": 13,
   "id": "ed38c35c-6a50-4a67-8dd8-3ebc6ed89488",
   "metadata": {},
   "outputs": [],
   "source": [
    "# Code"
   ]
  },
  {
   "cell_type": "markdown",
   "id": "0a550b62-bfb3-4033-a269-7c43dfb659d4",
   "metadata": {},
   "source": [
    "### Task 3: Interpolated Heatmap of Average Home Prices"
   ]
  },
  {
   "cell_type": "code",
   "execution_count": 14,
   "id": "be7b6310-8975-45f4-bda8-1cf771f6ed44",
   "metadata": {},
   "outputs": [],
   "source": [
    "# Code"
   ]
  }
 ],
 "metadata": {
  "kernelspec": {
   "display_name": "Python 3 (ipykernel)",
   "language": "python",
   "name": "python3"
  },
  "language_info": {
   "codemirror_mode": {
    "name": "ipython",
    "version": 3
   },
   "file_extension": ".py",
   "mimetype": "text/x-python",
   "name": "python",
   "nbconvert_exporter": "python",
   "pygments_lexer": "ipython3",
   "version": "3.9.13"
  }
 },
 "nbformat": 4,
 "nbformat_minor": 5
}
